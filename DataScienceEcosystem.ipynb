{
 "cells": [
  {
   "cell_type": "markdown",
   "id": "9d48c8d4-89be-4f98-a598-7cab2286c39e",
   "metadata": {},
   "source": [
    "# Data Science Tools and Ecosystem"
   ]
  },
  {
   "cell_type": "markdown",
   "id": "953dae7c-6567-41e8-909a-a6e7e8d98be9",
   "metadata": {},
   "source": [
    "In this notebook, Data Science Tools and Ecosystem are summarized."
   ]
  },
  {
   "cell_type": "markdown",
   "id": "53c13a5b-7302-4eca-aa8d-47e563da3810",
   "metadata": {},
   "source": [
    "Some of the popular languaages that Data Scientists use are:\n",
    "1. Python\n",
    "2. R\n",
    "3. Java\n",
    "4. SQL\n",
    "5. C/C++"
   ]
  },
  {
   "cell_type": "markdown",
   "id": "da703a18-1d8d-4996-b885-eec2eddc686d",
   "metadata": {},
   "source": [
    "Some of the commonly used libraries used by Data Scientists include:\n",
    "1. Pandas\n",
    "2. Matplotlib\n",
    "3. Dplyr\n",
    "4. NumPy\n",
    "5. Keras"
   ]
  },
  {
   "cell_type": "markdown",
   "id": "a854c7c4-60e6-46ae-8b9d-0ebbb57d4869",
   "metadata": {},
   "source": [
    "# Data Science Tools\n",
    "|Three Development Environtment Open Source|\n",
    "|-----|\n",
    "|Jupyter Notebooks|\n",
    "|R Studio|\n",
    "|GitHub|"
   ]
  },
  {
   "cell_type": "markdown",
   "id": "644fb501-54d2-4c0e-bc80-1f32827ca6ed",
   "metadata": {},
   "source": [
    "### Below are a few examples of evaluating arithmetic expression in Python"
   ]
  },
  {
   "cell_type": "code",
   "execution_count": 21,
   "id": "eb303cbe-2836-4200-9f0f-ea6d29f5d120",
   "metadata": {},
   "outputs": [
    {
     "data": {
      "text/plain": [
       "17"
      ]
     },
     "execution_count": 21,
     "metadata": {},
     "output_type": "execute_result"
    }
   ],
   "source": [
    "# This a simple arithmetic expression to multiply then add integers\n",
    "(3*4)+5"
   ]
  },
  {
   "cell_type": "code",
   "execution_count": 23,
   "id": "ddef48a3-6e32-4319-958e-1af499a73605",
   "metadata": {},
   "outputs": [
    {
     "data": {
      "text/plain": [
       "3.3333333333333335"
      ]
     },
     "execution_count": 23,
     "metadata": {},
     "output_type": "execute_result"
    }
   ],
   "source": [
    "# This will convert 200 minutes to hours by diving by 60\n",
    "200/60"
   ]
  },
  {
   "cell_type": "markdown",
   "id": "61df64ca-426d-45cd-9028-7a82a6fb387f",
   "metadata": {},
   "source": [
    "**Objectives:**\n",
    "List popular languages for Data Science.\n",
    "- Python\n",
    "- R\n",
    "- Java\n",
    "- SQL\n",
    "- C/C++"
   ]
  },
  {
   "cell_type": "markdown",
   "id": "d819ee54-49c6-4736-afbe-1d5ee5ccb433",
   "metadata": {},
   "source": [
    "## Author\n",
    "Asyifa Nur Fadhilah"
   ]
  }
 ],
 "metadata": {
  "kernelspec": {
   "display_name": "Python 3 (ipykernel)",
   "language": "python",
   "name": "python3"
  },
  "language_info": {
   "codemirror_mode": {
    "name": "ipython",
    "version": 3
   },
   "file_extension": ".py",
   "mimetype": "text/x-python",
   "name": "python",
   "nbconvert_exporter": "python",
   "pygments_lexer": "ipython3",
   "version": "3.12.4"
  }
 },
 "nbformat": 4,
 "nbformat_minor": 5
}
